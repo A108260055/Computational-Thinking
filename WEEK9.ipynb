{
  "nbformat": 4,
  "nbformat_minor": 0,
  "metadata": {
    "colab": {
      "name": "WEEK9.ipynb",
      "provenance": [],
      "collapsed_sections": [],
      "include_colab_link": true
    },
    "kernelspec": {
      "name": "python3",
      "display_name": "Python 3"
    }
  },
  "cells": [
    {
      "cell_type": "markdown",
      "metadata": {
        "id": "view-in-github",
        "colab_type": "text"
      },
      "source": [
        "<a href=\"https://colab.research.google.com/github/Yichuan023/Computational-Thinking/blob/master/WEEK9.ipynb\" target=\"_parent\"><img src=\"https://colab.research.google.com/assets/colab-badge.svg\" alt=\"Open In Colab\"/></a>"
      ]
    },
    {
      "cell_type": "code",
      "metadata": {
        "id": "TaTj4LVjgn8_",
        "colab_type": "code",
        "colab": {
          "base_uri": "https://localhost:8080/",
          "height": 51
        },
        "outputId": "19d89175-46e8-4d6c-9009-f8cf07bf0173"
      },
      "source": [
        "score=int(input('請輸入一個成績'))\n",
        "if score>=60:\n",
        "  print('很好，請保持下去')"
      ],
      "execution_count": 1,
      "outputs": [
        {
          "output_type": "stream",
          "text": [
            "請輸入一個成績88\n",
            "很好，請保持下去\n"
          ],
          "name": "stdout"
        }
      ]
    },
    {
      "cell_type": "code",
      "metadata": {
        "id": "w8Zrlp6fhJd8",
        "colab_type": "code",
        "colab": {
          "base_uri": "https://localhost:8080/",
          "height": 51
        },
        "outputId": "2c844623-612d-446d-d52e-1f4739ca637b"
      },
      "source": [
        "score=int(input('請輸入一個成績'))\n",
        "if score>=60:\n",
        "   print('有及格ㄡ~')\n",
        "else:\n",
        "     print('不及格ㄟ!')"
      ],
      "execution_count": 3,
      "outputs": [
        {
          "output_type": "stream",
          "text": [
            "請輸入一個成績50\n",
            "不及格ㄟ!\n"
          ],
          "name": "stdout"
        }
      ]
    },
    {
      "cell_type": "code",
      "metadata": {
        "id": "qDW0WHR6k0mV",
        "colab_type": "code",
        "colab": {
          "base_uri": "https://localhost:8080/",
          "height": 51
        },
        "outputId": "c5b220c0-332d-4c32-9f2c-c89245ee8969"
      },
      "source": [
        "score=int(input('請輸入一個成績'))\n",
        "if score>=80:\n",
        "   prunt('非常好')\n",
        "elif score>=60:\n",
        "     print('不錯喔')\n",
        "else:\n",
        "    print('要加油')"
      ],
      "execution_count": 4,
      "outputs": [
        {
          "output_type": "stream",
          "text": [
            "請輸入一個成績66\n",
            "不錯喔\n"
          ],
          "name": "stdout"
        }
      ]
    },
    {
      "cell_type": "code",
      "metadata": {
        "id": "B4bz96yalxI_",
        "colab_type": "code",
        "colab": {}
      },
      "source": [
        "x=float(input('ㄑ))"
      ],
      "execution_count": 0,
      "outputs": []
    }
  ]
}